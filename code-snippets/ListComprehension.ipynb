{
  "nbformat": 4,
  "nbformat_minor": 0,
  "metadata": {
    "colab": {
      "name": "ListComprehension.ipynb",
      "provenance": [],
      "collapsed_sections": [],
      "toc_visible": true
    },
    "kernelspec": {
      "name": "python3",
      "display_name": "Python 3"
    },
    "language_info": {
      "name": "python"
    }
  },
  "cells": [
    {
      "cell_type": "markdown",
      "source": [
        "**Autor:** Fernando Timoteo Fernandes <br/>\n",
        "**Data:** 04/07/2022 <br/><br/>\n",
        "\n",
        "Sejam bem-vindos!\n",
        "\n",
        "O recurso ***list comprehension*** é um recurso nativo do python para  <font color='blue'>**trabalhar com listas**</font> em que é possível executar algum trecho de código para cada item da lista **em uma única linha de código**. \n",
        "\n",
        "<br/>O recurso permite **comparar valores de listas usando condicionais** e retornar uma outra lista com base no resultado da comparação. Pode ser bastante útil em tarefas rotineiras como na limpeza de dados! <br/><br/>\n",
        "\n",
        "Veja mais a seguir!<br/>\n",
        "\n",
        "Ref:  https://docs.python.org/3/tutorial/datastructures.html#list-comprehensions"
      ],
      "metadata": {
        "id": "TZQbbswWl6NX"
      }
    },
    {
      "cell_type": "markdown",
      "source": [
        "#1) Entendendo List Comprehension"
      ],
      "metadata": {
        "id": "R9ujPFwvbqfH"
      }
    },
    {
      "cell_type": "markdown",
      "source": [
        "**Cenário:** Suponha que você tem uma lista de valores e precisa elevar todos os valores **pares** ao quadrado."
      ],
      "metadata": {
        "id": "bULgj3p3nXPE"
      }
    },
    {
      "cell_type": "code",
      "execution_count": 1,
      "metadata": {
        "id": "SNlX_gFfXJtF"
      },
      "outputs": [],
      "source": [
        "lista = [1,2,3,4,5,6,7,8,9,10]"
      ]
    },
    {
      "cell_type": "markdown",
      "source": [
        "O que você faria ?"
      ],
      "metadata": {
        "id": "KodQR097ySKF"
      }
    },
    {
      "cell_type": "markdown",
      "source": [
        "* a) Faria um for e compararia cada valor\n",
        "* b) Faria uma função para depois comparar e retornar os valores\n",
        "* c) Criaria uma função lambda com filtro e map\n",
        "* d) Pediria ajuda aos universitários\n",
        "* **e) Continuaria lendo o notebook abaixo para facilitar a minha vida!**"
      ],
      "metadata": {
        "id": "gRKsaViUyVG4"
      }
    },
    {
      "cell_type": "markdown",
      "source": [
        "## 1.1) Sintaxe"
      ],
      "metadata": {
        "id": "0eEIEVwGno0P"
      }
    },
    {
      "cell_type": "markdown",
      "source": [
        "**Sintaxe** <br/>\n",
        "\n",
        "<code>[ \"execute algo\" \"para cada item da lista\" ]</code>\n",
        "<br/>\n",
        "\n",
        "*Sem condicional* <br/>\n",
        "<font color='blue'><code>[expressão for x in list]</code></font><br/>\n",
        "Leia-se: Para cada elemento na lista (for x in list), faça alguma coisa (expressão)\n",
        "\n",
        "*Com condicional* <br/>\n",
        "<font color='blue'><code>[expressão for x in list if(condicao)]</code></font><br/><br/>\n",
        "\n",
        "Tipo de Retorno: Outra estrutura do tipo lista\n",
        "<br/><br/>\n",
        "Obs: Para cada elemento na lista (for x in list), execute alguma coisa **SE** a condição for verdadeira(expressão)"
      ],
      "metadata": {
        "id": "Ebv7Z88QXNPx"
      }
    },
    {
      "cell_type": "markdown",
      "source": [
        "##1.2) Calculando o quadrado de números pares - **SEM list comprehension**"
      ],
      "metadata": {
        "id": "DT0N0m5MYdu8"
      }
    },
    {
      "cell_type": "markdown",
      "source": [
        "Exemplo: Calcular o quadrado de todos elementos **pares** de uma lista"
      ],
      "metadata": {
        "id": "MW_FsqyEZw6j"
      }
    },
    {
      "cell_type": "code",
      "source": [
        "for x in lista:\n",
        "  if(x%2==0):\n",
        "    print(x**2)"
      ],
      "metadata": {
        "colab": {
          "base_uri": "https://localhost:8080/"
        },
        "id": "4bQxKBk4ZwuJ",
        "outputId": "2138e77b-47bf-40f9-d152-b4a8aca3ef8d"
      },
      "execution_count": 7,
      "outputs": [
        {
          "output_type": "stream",
          "name": "stdout",
          "text": [
            "4\n",
            "16\n",
            "36\n",
            "64\n",
            "100\n"
          ]
        }
      ]
    },
    {
      "cell_type": "markdown",
      "source": [
        "##1.3) Calculando o quadrado de números pares - **COM list comprehension**"
      ],
      "metadata": {
        "id": "lcIRh2fCaopt"
      }
    },
    {
      "cell_type": "code",
      "source": [
        "nova_lista = [x**2 for x in lista if(x%2==0)]\n",
        "print(nova_lista)"
      ],
      "metadata": {
        "colab": {
          "base_uri": "https://localhost:8080/"
        },
        "id": "DU8wl9ILXOiz",
        "outputId": "28023b57-c13f-48a4-d8eb-8f84922c9927"
      },
      "execution_count": 39,
      "outputs": [
        {
          "output_type": "stream",
          "name": "stdout",
          "text": [
            "[4, 16, 36, 64, 100]\n"
          ]
        }
      ]
    },
    {
      "cell_type": "code",
      "source": [
        "type(nova_lista)"
      ],
      "metadata": {
        "colab": {
          "base_uri": "https://localhost:8080/"
        },
        "id": "ju2l9sSUyDXp",
        "outputId": "9e84d196-c057-42c9-b10d-75f35d391427"
      },
      "execution_count": 52,
      "outputs": [
        {
          "output_type": "execute_result",
          "data": {
            "text/plain": [
              "list"
            ]
          },
          "metadata": {},
          "execution_count": 52
        }
      ]
    },
    {
      "cell_type": "markdown",
      "source": [
        "OU posso imprimir diretamente os valores da nova lista gerada"
      ],
      "metadata": {
        "id": "_6xv9nm0wA00"
      }
    },
    {
      "cell_type": "code",
      "source": [
        "[print(x**2) for x in lista if(x%2==0)]"
      ],
      "metadata": {
        "colab": {
          "base_uri": "https://localhost:8080/"
        },
        "id": "KRtD7N7jvs_b",
        "outputId": "1cbea1b4-046d-49ea-e8a4-5321fc9dffb0"
      },
      "execution_count": 41,
      "outputs": [
        {
          "output_type": "stream",
          "name": "stdout",
          "text": [
            "4\n",
            "16\n",
            "36\n",
            "64\n",
            "100\n"
          ]
        },
        {
          "output_type": "execute_result",
          "data": {
            "text/plain": [
              "[None, None, None, None, None]"
            ]
          },
          "metadata": {},
          "execution_count": 41
        }
      ]
    },
    {
      "cell_type": "markdown",
      "source": [
        "## 1.4) Calculando o quadrado de números pares - **com lambda expression**"
      ],
      "metadata": {
        "id": "gdN2xCIXoyI0"
      }
    },
    {
      "cell_type": "markdown",
      "source": [
        "As expressões lambda fazem parte de outro recurso nativo do python muito poderoso que abordaremos em outro post =D"
      ],
      "metadata": {
        "id": "NEupzr1QvCb8"
      }
    },
    {
      "cell_type": "code",
      "source": [
        "quadrados_pares = list(map(lambda x:x**2, list(filter(lambda x: x%2 == 0, lista)) ))\n",
        "quadrados_pares"
      ],
      "metadata": {
        "colab": {
          "base_uri": "https://localhost:8080/"
        },
        "id": "zkV9PnsNuDG4",
        "outputId": "e720bc75-ea85-400c-f09c-58c1c7b4263d"
      },
      "execution_count": 38,
      "outputs": [
        {
          "output_type": "execute_result",
          "data": {
            "text/plain": [
              "[4, 16, 36, 64, 100]"
            ]
          },
          "metadata": {},
          "execution_count": 38
        }
      ]
    },
    {
      "cell_type": "markdown",
      "source": [
        "##1.5) Retornar uma única lista com elementos únicos de diferentes listas"
      ],
      "metadata": {
        "id": "QSPRciReg5UI"
      }
    },
    {
      "cell_type": "code",
      "source": [
        "lista1 = [1,3,2]\n",
        "lista2 = [3,5,4]\n",
        "\n",
        "#Pego a lista1 e concateno cada valor da lista2 se o valor for diferente da lista1. \n",
        "#Após concatenar, ordeno os valores da lista\n",
        "resultado = sorted(lista1 + [(x) for x in lista2 if x not in lista1])\n",
        "resultado"
      ],
      "metadata": {
        "colab": {
          "base_uri": "https://localhost:8080/"
        },
        "id": "eOumOW4hh9KW",
        "outputId": "91aedf2c-f356-4d1f-cb6a-540a52b8b323"
      },
      "execution_count": 51,
      "outputs": [
        {
          "output_type": "execute_result",
          "data": {
            "text/plain": [
              "[1, 2, 3, 4, 5]"
            ]
          },
          "metadata": {},
          "execution_count": 51
        }
      ]
    },
    {
      "cell_type": "markdown",
      "source": [
        "## 1.6) Combinando duas listas"
      ],
      "metadata": {
        "id": "EiEbs6R6iA4z"
      }
    },
    {
      "cell_type": "code",
      "source": [
        "[(x,y) for x in lista1 for y in lista2 if(x!=y)]"
      ],
      "metadata": {
        "colab": {
          "base_uri": "https://localhost:8080/"
        },
        "id": "22wkJBUZkO7G",
        "outputId": "45e53a44-e964-4e52-c1b7-bc82acb6d335"
      },
      "execution_count": 14,
      "outputs": [
        {
          "output_type": "execute_result",
          "data": {
            "text/plain": [
              "[(1, 3), (1, 4), (1, 5), (2, 3), (2, 4), (2, 5), (3, 4), (3, 5)]"
            ]
          },
          "metadata": {},
          "execution_count": 14
        }
      ]
    },
    {
      "cell_type": "markdown",
      "source": [
        "Obrigado!"
      ],
      "metadata": {
        "id": "t5kILK3hkW-P"
      }
    }
  ]
}