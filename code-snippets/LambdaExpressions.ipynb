{
  "nbformat": 4,
  "nbformat_minor": 0,
  "metadata": {
    "colab": {
      "name": "LambdaExpressions.ipynb",
      "provenance": [],
      "collapsed_sections": [],
      "toc_visible": true
    },
    "kernelspec": {
      "name": "python3",
      "display_name": "Python 3"
    },
    "language_info": {
      "name": "python"
    }
  },
  "cells": [
    {
      "cell_type": "markdown",
      "source": [
        "**Autor:** Fernando Timoteo Fernandes <br/>\n",
        "**Data:** 18/07/2022 <br/><br/>\n",
        "\n",
        "Sejam bem-vindos!\n",
        "\n",
        "As expressões lambda ou ***lambda expressions*** do python e de outras linguagens permitem criar  <font color='blue'>funções anônimas</font>.  <br /><br/>\n",
        "\n",
        "OK, Mas o **que são funções anônimas e para que servem?** Parece complexo, mas não é. <br/><br/>\n",
        "\n",
        "\n",
        "Confira abaixo no notebook preparado par simplificar o entendimento!<br/><br/>"
      ],
      "metadata": {
        "id": "TZQbbswWl6NX"
      }
    },
    {
      "cell_type": "markdown",
      "source": [
        "#1) Entendendo as expressões Lambda!"
      ],
      "metadata": {
        "id": "R9ujPFwvbqfH"
      }
    },
    {
      "cell_type": "markdown",
      "source": [
        "De maneira geral, as ***expressões lambda*** ou ***funções lambda*** são usadas quando precisamos realizar **cálculos simples** que normalmente colocaríamos dentro de uma função, mas como iremos **utilizar por um pequeno período de tempo**, não faz sentido declará-la antecipadamente. <br/><br/>\n",
        "\n",
        "Outro uso muito comum é **passar a expressão lambda como argumento para outras funções**.<br /><br />"
      ],
      "metadata": {
        "id": "SoJnXF7Bou-m"
      }
    },
    {
      "cell_type": "markdown",
      "source": [
        "\n",
        "Por exemplo, em uma função tradicional, precisamos **definir antecipadamente** uma função **com um nome**, para então podermos chamá-la. Ex:"
      ],
      "metadata": {
        "id": "A-iNwRp_PHFR"
      }
    },
    {
      "cell_type": "code",
      "source": [
        "#Incrementa o valor passado por 1\n",
        "def soma_um(x):\n",
        "  print(x+1)"
      ],
      "metadata": {
        "id": "2ZRtDB5lrcPb"
      },
      "execution_count": null,
      "outputs": []
    },
    {
      "cell_type": "markdown",
      "source": [
        "Chamo a função com o nome **soma_um**, passando o valor **1** como argumento"
      ],
      "metadata": {
        "id": "Kf4ZrfSJPakh"
      }
    },
    {
      "cell_type": "code",
      "source": [
        "soma_um(1)"
      ],
      "metadata": {
        "colab": {
          "base_uri": "https://localhost:8080/"
        },
        "id": "tNwwQF37qsrI",
        "outputId": "b5d75339-0ada-4df7-c39a-c0450d40de26"
      },
      "execution_count": null,
      "outputs": [
        {
          "output_type": "stream",
          "name": "stdout",
          "text": [
            "2\n"
          ]
        }
      ]
    },
    {
      "cell_type": "markdown",
      "source": [
        "**Obs:** Se você executar a célula acima e esquecer de ter executado a célula de definição da função, irá ocorrer um erro. "
      ],
      "metadata": {
        "id": "G6buF30asV2M"
      }
    },
    {
      "cell_type": "markdown",
      "source": [
        "**Obs 2:** É comum esquecermos quando estamos trabalhando com códigos mais longos.  =/<br />\n",
        "\n",
        "Vejamos a mesma função, usando expressões lambda."
      ],
      "metadata": {
        "id": "2O5HL1voPoLm"
      }
    },
    {
      "cell_type": "markdown",
      "source": [
        "## 1.1) Sintaxe"
      ],
      "metadata": {
        "id": "0eEIEVwGno0P"
      }
    },
    {
      "cell_type": "markdown",
      "source": [
        "**Sintaxe** <br/>\n",
        "**lambda** *argumentos* : *expressão*"
      ],
      "metadata": {
        "id": "Fm2dQOt4IQ4C"
      }
    },
    {
      "cell_type": "markdown",
      "source": [
        "```\n",
        "funcao_anonima = lambda x: x + 1 \n",
        "print(funcao_anonima(1))\n",
        "```\n",
        "</code>\n",
        "<br/>\n",
        "Resultado:<br/>\n",
        "<code>2</code>"
      ],
      "metadata": {
        "id": "Ebv7Z88QXNPx"
      }
    },
    {
      "cell_type": "markdown",
      "source": [
        "Perceba que não definimos nenhum nome para a função lambda, apenas atribui a uma variável. Portanto, daí vem a **função anônima**"
      ],
      "metadata": {
        "id": "mfn9cpHzOv8n"
      }
    },
    {
      "cell_type": "markdown",
      "source": [
        "Leia-se <br />\n",
        "Dada uma variável *x* passada como parâmetro para a função anônima, utilize o valor de *x* e some mais 1. <br /><br/>\n",
        "Ex: se for passado o valor 1, o resultado será 2, se for passado o valor 2, o resultado será 3 e assim por diante...\n",
        "<br /><br />\n",
        "**Obs:** este modo de declaração não é o mais recomendado. Foi inserido por questões didáticas. Iremos ver mais abaixo (seção 1.2 e 1.3) como usar com outras funções.\n"
      ],
      "metadata": {
        "id": "JkXY6R0hOusr"
      }
    },
    {
      "cell_type": "code",
      "source": [
        "import datetime\n",
        "hoje = datetime.datetime.now()"
      ],
      "metadata": {
        "id": "VBG5dqi7Pgo0"
      },
      "execution_count": 28,
      "outputs": []
    },
    {
      "cell_type": "markdown",
      "source": [
        "Extrair dia, mês e ano com uma função lambda"
      ],
      "metadata": {
        "id": "B-waolgMPlU8"
      }
    },
    {
      "cell_type": "code",
      "source": [
        "print(now)\n",
        "year = lambda x: x.year\n",
        "month = lambda x: x.month\n",
        "day = lambda x: x.day"
      ],
      "metadata": {
        "colab": {
          "base_uri": "https://localhost:8080/"
        },
        "id": "oqc50hPYPjAo",
        "outputId": "1cb35705-43f8-4df8-dc0a-32dade864142"
      },
      "execution_count": 27,
      "outputs": [
        {
          "output_type": "stream",
          "name": "stdout",
          "text": [
            "2022-07-18 16:57:15.823602\n"
          ]
        }
      ]
    },
    {
      "cell_type": "markdown",
      "source": [
        "## 1.2) Declarando uma função anônima"
      ],
      "metadata": {
        "id": "578r-LFeP8iL"
      }
    },
    {
      "cell_type": "markdown",
      "source": [
        "**Cenário:** Suponha que você precisa realizar um cálculo matemático uma única vez e precisa de uma função simples."
      ],
      "metadata": {
        "id": "bULgj3p3nXPE"
      }
    },
    {
      "cell_type": "markdown",
      "source": [
        "Ex: Calcular o quadrado de um numero qualquer"
      ],
      "metadata": {
        "id": "uKY1NNMOm3q5"
      }
    },
    {
      "cell_type": "code",
      "source": [
        "x = lambda x: x**2\n",
        "print(x(10))"
      ],
      "metadata": {
        "colab": {
          "base_uri": "https://localhost:8080/"
        },
        "id": "C1vJqD1JoAhy",
        "outputId": "11d15c72-718e-4420-dad6-f027495174e5"
      },
      "execution_count": null,
      "outputs": [
        {
          "output_type": "stream",
          "name": "stdout",
          "text": [
            "100\n"
          ]
        }
      ]
    },
    {
      "cell_type": "markdown",
      "source": [
        "OU"
      ],
      "metadata": {
        "id": "BFXR8mi4QHLq"
      }
    },
    {
      "cell_type": "code",
      "source": [
        "#No primeiro parênteses, declaro a função, no segundo passo o parâmetro\n",
        "(lambda x: x**2)(10)"
      ],
      "metadata": {
        "colab": {
          "base_uri": "https://localhost:8080/"
        },
        "id": "FawEUQKFQgrB",
        "outputId": "5157fc59-a937-47ee-b7b1-d48e3dcedbe4"
      },
      "execution_count": null,
      "outputs": [
        {
          "output_type": "execute_result",
          "data": {
            "text/plain": [
              "100"
            ]
          },
          "metadata": {},
          "execution_count": 12
        }
      ]
    },
    {
      "cell_type": "markdown",
      "source": [
        "## 1.3) Passar a expressão lambda como parâmetro para outras funções"
      ],
      "metadata": {
        "id": "YfOzz-2MQsaJ"
      }
    },
    {
      "cell_type": "markdown",
      "source": [
        "**Cenário:** Suponha que você precisa filtrar os números pares de uma lista e retornar outra lista."
      ],
      "metadata": {
        "id": "3kx0gofAQ5wT"
      }
    },
    {
      "cell_type": "code",
      "execution_count": null,
      "metadata": {
        "id": "SNlX_gFfXJtF"
      },
      "outputs": [],
      "source": [
        "lista = [1,2,3,4,5,6,7,8,9,10]"
      ]
    },
    {
      "cell_type": "markdown",
      "source": [
        "### 1.3.1) Filtrar itens de uma lista"
      ],
      "metadata": {
        "id": "kyZRnpWtTGWo"
      }
    },
    {
      "cell_type": "code",
      "source": [
        "lista_pares = list(filter(lambda x: x%2==0, lista))\n",
        "lista_pares"
      ],
      "metadata": {
        "colab": {
          "base_uri": "https://localhost:8080/"
        },
        "id": "KjB9_YyHQ3DZ",
        "outputId": "294f530d-eeec-4895-f808-93564ff484ec"
      },
      "execution_count": null,
      "outputs": [
        {
          "output_type": "execute_result",
          "data": {
            "text/plain": [
              "[2, 4, 6, 8, 10]"
            ]
          },
          "metadata": {},
          "execution_count": 14
        }
      ]
    },
    {
      "cell_type": "markdown",
      "source": [
        "Veja que a expressão lambda é passada como parâmetro para a função nativa do python *filter*. <br /><br />\n",
        "\n",
        "**Sintaxe** filter: <br/>filter(function, iterable)\n",
        "- iterable = ex: listas ou outros objetos iteráveis\n",
        "\n",
        "<br />\n",
        "A função lambda compara se o resto da divisão por 2 de cada elemento da lista é 0 para determinar se o número é par e somente retorna os valores em que o resto da divisão é 0 (lambda x: x%2==0)."
      ],
      "metadata": {
        "id": "_c8kgG6gQ3ZB"
      }
    },
    {
      "cell_type": "markdown",
      "source": [
        "### 1.3.2) Mapear uma função para cada elemento de uma lista"
      ],
      "metadata": {
        "id": "zr3SzidfTBtk"
      }
    },
    {
      "cell_type": "code",
      "source": [
        "lista_cubos = list(map(lambda x: x**3, lista))\n",
        "lista_cubos"
      ],
      "metadata": {
        "colab": {
          "base_uri": "https://localhost:8080/"
        },
        "id": "Gi5caFtcSucE",
        "outputId": "f3cbade0-78be-4ae1-8143-d043d3b457b0"
      },
      "execution_count": null,
      "outputs": [
        {
          "output_type": "execute_result",
          "data": {
            "text/plain": [
              "[1, 8, 27, 64, 125, 216, 343, 512, 729, 1000]"
            ]
          },
          "metadata": {},
          "execution_count": 15
        }
      ]
    },
    {
      "cell_type": "markdown",
      "source": [
        "Veja que a expressão lambda é passada como parâmetro para a função nativa do python *map*. <br /> A função *map* aplica a função lambda a cada elemento da lista<br /><br />\n",
        "\n",
        "**Sintaxe** map: <br/>map(function, iterable)\n",
        "- iterable = ex: listas ou outros objetos iteráveis"
      ],
      "metadata": {
        "id": "T1zTJvlTSunI"
      }
    },
    {
      "cell_type": "markdown",
      "source": [
        "Agora veremos a cereja do bolo! <br />"
      ],
      "metadata": {
        "id": "AxWkRr21JQix"
      }
    },
    {
      "cell_type": "markdown",
      "source": [
        "## 1.4) Funções Lambda com múltiplos parâmetros"
      ],
      "metadata": {
        "id": "SaZlj7F5W-GX"
      }
    },
    {
      "cell_type": "markdown",
      "source": [
        "Criando uma calculadora de multplicação que recebe 2 variáveis x e y como argumentos."
      ],
      "metadata": {
        "id": "om3dbOMDXX7m"
      }
    },
    {
      "cell_type": "code",
      "source": [
        "(lambda x,y: x*y)(10,5)"
      ],
      "metadata": {
        "colab": {
          "base_uri": "https://localhost:8080/"
        },
        "id": "k7qc9HHxXM8e",
        "outputId": "f258d87d-d1cc-4873-9700-9abecd443351"
      },
      "execution_count": null,
      "outputs": [
        {
          "output_type": "execute_result",
          "data": {
            "text/plain": [
              "50"
            ]
          },
          "metadata": {},
          "execution_count": 26
        }
      ]
    },
    {
      "cell_type": "markdown",
      "source": [
        "![cereja_bolo.jpg](data:image/jpeg;base64,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)"
      ],
      "metadata": {
        "id": "JLe8LVB6JfqU"
      }
    },
    {
      "cell_type": "markdown",
      "source": [
        "## 1.5) Aplicando a expressão lambda em um **Dataframe** "
      ],
      "metadata": {
        "id": "KodQR097ySKF"
      }
    },
    {
      "cell_type": "markdown",
      "source": [
        "**Cenário:** Imagine que você pretenda criar uma nova categoria binária de uma variável existente. "
      ],
      "metadata": {
        "id": "CCViKEKIUiY9"
      }
    },
    {
      "cell_type": "markdown",
      "source": [
        "Este é um cenário muito comum em ***machine learning*** para dicotomizar categorias para facilitar as análises preditivas em problemas de classficação."
      ],
      "metadata": {
        "id": "nkBOQwzFUN78"
      }
    },
    {
      "cell_type": "code",
      "source": [
        "import pandas as pd"
      ],
      "metadata": {
        "id": "49jaS-eKVDgq"
      },
      "execution_count": null,
      "outputs": []
    },
    {
      "cell_type": "code",
      "source": [
        "url = 'https://raw.githubusercontent.com/simplifique-treinamentos/datasets/master/hearts_processed_cleveland.csv'"
      ],
      "metadata": {
        "id": "lqfbXxQ8U531"
      },
      "execution_count": null,
      "outputs": []
    },
    {
      "cell_type": "code",
      "source": [
        "df = pd.read_csv(url, delimiter=';')\n",
        "df.head()"
      ],
      "metadata": {
        "colab": {
          "base_uri": "https://localhost:8080/",
          "height": 206
        },
        "id": "nPQetcS9VE-c",
        "outputId": "a64e7b35-e0f3-4673-a2ec-d5f8b6bbfea6"
      },
      "execution_count": null,
      "outputs": [
        {
          "output_type": "execute_result",
          "data": {
            "text/plain": [
              "    age  sex   cp  trestbps   chol  fbs  restecg  thalach  exang  oldpeak  \\\n",
              "0  63.0  1.0  1.0     145.0  233.0  1.0      2.0    150.0    0.0      2.3   \n",
              "1  67.0  1.0  4.0     160.0  286.0  0.0      2.0    108.0    1.0      1.5   \n",
              "2  67.0  1.0  4.0     120.0  229.0  0.0      2.0    129.0    1.0      2.6   \n",
              "3  37.0  1.0  3.0     130.0  250.0  0.0      0.0    187.0    0.0      3.5   \n",
              "4  41.0  0.0  2.0     130.0  204.0  0.0      2.0    172.0    0.0      1.4   \n",
              "\n",
              "   slope   ca  thal  num  \n",
              "0    3.0  0.0   6.0    0  \n",
              "1    2.0  3.0   3.0    2  \n",
              "2    2.0  2.0   7.0    1  \n",
              "3    3.0  0.0   3.0    0  \n",
              "4    1.0  0.0   3.0    0  "
            ],
            "text/html": [
              "\n",
              "  <div id=\"df-8277d34e-aaac-4542-8a72-3b5fbc67054b\">\n",
              "    <div class=\"colab-df-container\">\n",
              "      <div>\n",
              "<style scoped>\n",
              "    .dataframe tbody tr th:only-of-type {\n",
              "        vertical-align: middle;\n",
              "    }\n",
              "\n",
              "    .dataframe tbody tr th {\n",
              "        vertical-align: top;\n",
              "    }\n",
              "\n",
              "    .dataframe thead th {\n",
              "        text-align: right;\n",
              "    }\n",
              "</style>\n",
              "<table border=\"1\" class=\"dataframe\">\n",
              "  <thead>\n",
              "    <tr style=\"text-align: right;\">\n",
              "      <th></th>\n",
              "      <th>age</th>\n",
              "      <th>sex</th>\n",
              "      <th>cp</th>\n",
              "      <th>trestbps</th>\n",
              "      <th>chol</th>\n",
              "      <th>fbs</th>\n",
              "      <th>restecg</th>\n",
              "      <th>thalach</th>\n",
              "      <th>exang</th>\n",
              "      <th>oldpeak</th>\n",
              "      <th>slope</th>\n",
              "      <th>ca</th>\n",
              "      <th>thal</th>\n",
              "      <th>num</th>\n",
              "    </tr>\n",
              "  </thead>\n",
              "  <tbody>\n",
              "    <tr>\n",
              "      <th>0</th>\n",
              "      <td>63.0</td>\n",
              "      <td>1.0</td>\n",
              "      <td>1.0</td>\n",
              "      <td>145.0</td>\n",
              "      <td>233.0</td>\n",
              "      <td>1.0</td>\n",
              "      <td>2.0</td>\n",
              "      <td>150.0</td>\n",
              "      <td>0.0</td>\n",
              "      <td>2.3</td>\n",
              "      <td>3.0</td>\n",
              "      <td>0.0</td>\n",
              "      <td>6.0</td>\n",
              "      <td>0</td>\n",
              "    </tr>\n",
              "    <tr>\n",
              "      <th>1</th>\n",
              "      <td>67.0</td>\n",
              "      <td>1.0</td>\n",
              "      <td>4.0</td>\n",
              "      <td>160.0</td>\n",
              "      <td>286.0</td>\n",
              "      <td>0.0</td>\n",
              "      <td>2.0</td>\n",
              "      <td>108.0</td>\n",
              "      <td>1.0</td>\n",
              "      <td>1.5</td>\n",
              "      <td>2.0</td>\n",
              "      <td>3.0</td>\n",
              "      <td>3.0</td>\n",
              "      <td>2</td>\n",
              "    </tr>\n",
              "    <tr>\n",
              "      <th>2</th>\n",
              "      <td>67.0</td>\n",
              "      <td>1.0</td>\n",
              "      <td>4.0</td>\n",
              "      <td>120.0</td>\n",
              "      <td>229.0</td>\n",
              "      <td>0.0</td>\n",
              "      <td>2.0</td>\n",
              "      <td>129.0</td>\n",
              "      <td>1.0</td>\n",
              "      <td>2.6</td>\n",
              "      <td>2.0</td>\n",
              "      <td>2.0</td>\n",
              "      <td>7.0</td>\n",
              "      <td>1</td>\n",
              "    </tr>\n",
              "    <tr>\n",
              "      <th>3</th>\n",
              "      <td>37.0</td>\n",
              "      <td>1.0</td>\n",
              "      <td>3.0</td>\n",
              "      <td>130.0</td>\n",
              "      <td>250.0</td>\n",
              "      <td>0.0</td>\n",
              "      <td>0.0</td>\n",
              "      <td>187.0</td>\n",
              "      <td>0.0</td>\n",
              "      <td>3.5</td>\n",
              "      <td>3.0</td>\n",
              "      <td>0.0</td>\n",
              "      <td>3.0</td>\n",
              "      <td>0</td>\n",
              "    </tr>\n",
              "    <tr>\n",
              "      <th>4</th>\n",
              "      <td>41.0</td>\n",
              "      <td>0.0</td>\n",
              "      <td>2.0</td>\n",
              "      <td>130.0</td>\n",
              "      <td>204.0</td>\n",
              "      <td>0.0</td>\n",
              "      <td>2.0</td>\n",
              "      <td>172.0</td>\n",
              "      <td>0.0</td>\n",
              "      <td>1.4</td>\n",
              "      <td>1.0</td>\n",
              "      <td>0.0</td>\n",
              "      <td>3.0</td>\n",
              "      <td>0</td>\n",
              "    </tr>\n",
              "  </tbody>\n",
              "</table>\n",
              "</div>\n",
              "      <button class=\"colab-df-convert\" onclick=\"convertToInteractive('df-8277d34e-aaac-4542-8a72-3b5fbc67054b')\"\n",
              "              title=\"Convert this dataframe to an interactive table.\"\n",
              "              style=\"display:none;\">\n",
              "        \n",
              "  <svg xmlns=\"http://www.w3.org/2000/svg\" height=\"24px\"viewBox=\"0 0 24 24\"\n",
              "       width=\"24px\">\n",
              "    <path d=\"M0 0h24v24H0V0z\" fill=\"none\"/>\n",
              "    <path d=\"M18.56 5.44l.94 2.06.94-2.06 2.06-.94-2.06-.94-.94-2.06-.94 2.06-2.06.94zm-11 1L8.5 8.5l.94-2.06 2.06-.94-2.06-.94L8.5 2.5l-.94 2.06-2.06.94zm10 10l.94 2.06.94-2.06 2.06-.94-2.06-.94-.94-2.06-.94 2.06-2.06.94z\"/><path d=\"M17.41 7.96l-1.37-1.37c-.4-.4-.92-.59-1.43-.59-.52 0-1.04.2-1.43.59L10.3 9.45l-7.72 7.72c-.78.78-.78 2.05 0 2.83L4 21.41c.39.39.9.59 1.41.59.51 0 1.02-.2 1.41-.59l7.78-7.78 2.81-2.81c.8-.78.8-2.07 0-2.86zM5.41 20L4 18.59l7.72-7.72 1.47 1.35L5.41 20z\"/>\n",
              "  </svg>\n",
              "      </button>\n",
              "      \n",
              "  <style>\n",
              "    .colab-df-container {\n",
              "      display:flex;\n",
              "      flex-wrap:wrap;\n",
              "      gap: 12px;\n",
              "    }\n",
              "\n",
              "    .colab-df-convert {\n",
              "      background-color: #E8F0FE;\n",
              "      border: none;\n",
              "      border-radius: 50%;\n",
              "      cursor: pointer;\n",
              "      display: none;\n",
              "      fill: #1967D2;\n",
              "      height: 32px;\n",
              "      padding: 0 0 0 0;\n",
              "      width: 32px;\n",
              "    }\n",
              "\n",
              "    .colab-df-convert:hover {\n",
              "      background-color: #E2EBFA;\n",
              "      box-shadow: 0px 1px 2px rgba(60, 64, 67, 0.3), 0px 1px 3px 1px rgba(60, 64, 67, 0.15);\n",
              "      fill: #174EA6;\n",
              "    }\n",
              "\n",
              "    [theme=dark] .colab-df-convert {\n",
              "      background-color: #3B4455;\n",
              "      fill: #D2E3FC;\n",
              "    }\n",
              "\n",
              "    [theme=dark] .colab-df-convert:hover {\n",
              "      background-color: #434B5C;\n",
              "      box-shadow: 0px 1px 3px 1px rgba(0, 0, 0, 0.15);\n",
              "      filter: drop-shadow(0px 1px 2px rgba(0, 0, 0, 0.3));\n",
              "      fill: #FFFFFF;\n",
              "    }\n",
              "  </style>\n",
              "\n",
              "      <script>\n",
              "        const buttonEl =\n",
              "          document.querySelector('#df-8277d34e-aaac-4542-8a72-3b5fbc67054b button.colab-df-convert');\n",
              "        buttonEl.style.display =\n",
              "          google.colab.kernel.accessAllowed ? 'block' : 'none';\n",
              "\n",
              "        async function convertToInteractive(key) {\n",
              "          const element = document.querySelector('#df-8277d34e-aaac-4542-8a72-3b5fbc67054b');\n",
              "          const dataTable =\n",
              "            await google.colab.kernel.invokeFunction('convertToInteractive',\n",
              "                                                     [key], {});\n",
              "          if (!dataTable) return;\n",
              "\n",
              "          const docLinkHtml = 'Like what you see? Visit the ' +\n",
              "            '<a target=\"_blank\" href=https://colab.research.google.com/notebooks/data_table.ipynb>data table notebook</a>'\n",
              "            + ' to learn more about interactive tables.';\n",
              "          element.innerHTML = '';\n",
              "          dataTable['output_type'] = 'display_data';\n",
              "          await google.colab.output.renderOutput(dataTable, element);\n",
              "          const docLink = document.createElement('div');\n",
              "          docLink.innerHTML = docLinkHtml;\n",
              "          element.appendChild(docLink);\n",
              "        }\n",
              "      </script>\n",
              "    </div>\n",
              "  </div>\n",
              "  "
            ]
          },
          "metadata": {},
          "execution_count": 18
        }
      ]
    },
    {
      "cell_type": "markdown",
      "source": [
        "A coluna num é o desfecho do conjunto de dados. Este conjunto de dados de doenças cardiovasculares, definie o valor 0 para situações de normalidade e qualquer outro valor para presença de doença cardiovascular. <br /><br />Veja mais detalhes em nosso notebook explorando todo o conjunto de dados:\n",
        "https://github.com/simplifique-treinamentos/notebooks-python/blob/main/resumindo_dados.ipynb\n"
      ],
      "metadata": {
        "id": "_rn2bLugVvRc"
      }
    },
    {
      "cell_type": "code",
      "source": [
        "df.num.value_counts()"
      ],
      "metadata": {
        "colab": {
          "base_uri": "https://localhost:8080/"
        },
        "id": "_wQIB_oDVJo4",
        "outputId": "6abb8885-d2f5-42da-ffbd-474dca2b6a93"
      },
      "execution_count": null,
      "outputs": [
        {
          "output_type": "execute_result",
          "data": {
            "text/plain": [
              "0    164\n",
              "1     55\n",
              "2     36\n",
              "3     35\n",
              "4     13\n",
              "Name: num, dtype: int64"
            ]
          },
          "metadata": {},
          "execution_count": 4
        }
      ]
    },
    {
      "cell_type": "markdown",
      "source": [
        "### 1.5.1) Criar uma nova categoria com a função ***map*** do python"
      ],
      "metadata": {
        "id": "KJp9q_dgLOBe"
      }
    },
    {
      "cell_type": "markdown",
      "source": [
        "Criaremos uma nova coluna chamada **desfecho_binario**. Isto facilita a utilização de modelos de classificação. <br /><br />\n",
        "\n",
        "Para isso, iremos mapear a função lambda na coluna **num**. Em seguida podemos excluir a coluna num. "
      ],
      "metadata": {
        "id": "phtvps8hWhi_"
      }
    },
    {
      "cell_type": "code",
      "source": [
        "df['desfecho_binario'] = df['num'].map(lambda x: 1 if x>0 else 0)\n",
        "df['desfecho_binario'].value_counts()"
      ],
      "metadata": {
        "colab": {
          "base_uri": "https://localhost:8080/"
        },
        "id": "urEHwW9xWIDe",
        "outputId": "3140d1c8-78bf-4337-c631-d4ff75526481"
      },
      "execution_count": null,
      "outputs": [
        {
          "output_type": "execute_result",
          "data": {
            "text/plain": [
              "0    164\n",
              "1    139\n",
              "Name: desfecho_binario, dtype: int64"
            ]
          },
          "metadata": {},
          "execution_count": 19
        }
      ]
    },
    {
      "cell_type": "code",
      "source": [
        "df.head()"
      ],
      "metadata": {
        "colab": {
          "base_uri": "https://localhost:8080/",
          "height": 206
        },
        "id": "4lhFSkR5D_m6",
        "outputId": "1c2e4716-9dd7-4200-93f0-68e826ac35a8"
      },
      "execution_count": null,
      "outputs": [
        {
          "output_type": "execute_result",
          "data": {
            "text/plain": [
              "    age  sex   cp  trestbps   chol  fbs  restecg  thalach  exang  oldpeak  \\\n",
              "0  63.0  1.0  1.0     145.0  233.0  1.0      2.0    150.0    0.0      2.3   \n",
              "1  67.0  1.0  4.0     160.0  286.0  0.0      2.0    108.0    1.0      1.5   \n",
              "2  67.0  1.0  4.0     120.0  229.0  0.0      2.0    129.0    1.0      2.6   \n",
              "3  37.0  1.0  3.0     130.0  250.0  0.0      0.0    187.0    0.0      3.5   \n",
              "4  41.0  0.0  2.0     130.0  204.0  0.0      2.0    172.0    0.0      1.4   \n",
              "\n",
              "   slope   ca  thal  num  desfecho_binario  \n",
              "0    3.0  0.0   6.0    0                 0  \n",
              "1    2.0  3.0   3.0    2                 1  \n",
              "2    2.0  2.0   7.0    1                 1  \n",
              "3    3.0  0.0   3.0    0                 0  \n",
              "4    1.0  0.0   3.0    0                 0  "
            ],
            "text/html": [
              "\n",
              "  <div id=\"df-24e5f6c3-5f37-476c-9d95-6afd58f1e0ef\">\n",
              "    <div class=\"colab-df-container\">\n",
              "      <div>\n",
              "<style scoped>\n",
              "    .dataframe tbody tr th:only-of-type {\n",
              "        vertical-align: middle;\n",
              "    }\n",
              "\n",
              "    .dataframe tbody tr th {\n",
              "        vertical-align: top;\n",
              "    }\n",
              "\n",
              "    .dataframe thead th {\n",
              "        text-align: right;\n",
              "    }\n",
              "</style>\n",
              "<table border=\"1\" class=\"dataframe\">\n",
              "  <thead>\n",
              "    <tr style=\"text-align: right;\">\n",
              "      <th></th>\n",
              "      <th>age</th>\n",
              "      <th>sex</th>\n",
              "      <th>cp</th>\n",
              "      <th>trestbps</th>\n",
              "      <th>chol</th>\n",
              "      <th>fbs</th>\n",
              "      <th>restecg</th>\n",
              "      <th>thalach</th>\n",
              "      <th>exang</th>\n",
              "      <th>oldpeak</th>\n",
              "      <th>slope</th>\n",
              "      <th>ca</th>\n",
              "      <th>thal</th>\n",
              "      <th>num</th>\n",
              "      <th>desfecho_binario</th>\n",
              "    </tr>\n",
              "  </thead>\n",
              "  <tbody>\n",
              "    <tr>\n",
              "      <th>0</th>\n",
              "      <td>63.0</td>\n",
              "      <td>1.0</td>\n",
              "      <td>1.0</td>\n",
              "      <td>145.0</td>\n",
              "      <td>233.0</td>\n",
              "      <td>1.0</td>\n",
              "      <td>2.0</td>\n",
              "      <td>150.0</td>\n",
              "      <td>0.0</td>\n",
              "      <td>2.3</td>\n",
              "      <td>3.0</td>\n",
              "      <td>0.0</td>\n",
              "      <td>6.0</td>\n",
              "      <td>0</td>\n",
              "      <td>0</td>\n",
              "    </tr>\n",
              "    <tr>\n",
              "      <th>1</th>\n",
              "      <td>67.0</td>\n",
              "      <td>1.0</td>\n",
              "      <td>4.0</td>\n",
              "      <td>160.0</td>\n",
              "      <td>286.0</td>\n",
              "      <td>0.0</td>\n",
              "      <td>2.0</td>\n",
              "      <td>108.0</td>\n",
              "      <td>1.0</td>\n",
              "      <td>1.5</td>\n",
              "      <td>2.0</td>\n",
              "      <td>3.0</td>\n",
              "      <td>3.0</td>\n",
              "      <td>2</td>\n",
              "      <td>1</td>\n",
              "    </tr>\n",
              "    <tr>\n",
              "      <th>2</th>\n",
              "      <td>67.0</td>\n",
              "      <td>1.0</td>\n",
              "      <td>4.0</td>\n",
              "      <td>120.0</td>\n",
              "      <td>229.0</td>\n",
              "      <td>0.0</td>\n",
              "      <td>2.0</td>\n",
              "      <td>129.0</td>\n",
              "      <td>1.0</td>\n",
              "      <td>2.6</td>\n",
              "      <td>2.0</td>\n",
              "      <td>2.0</td>\n",
              "      <td>7.0</td>\n",
              "      <td>1</td>\n",
              "      <td>1</td>\n",
              "    </tr>\n",
              "    <tr>\n",
              "      <th>3</th>\n",
              "      <td>37.0</td>\n",
              "      <td>1.0</td>\n",
              "      <td>3.0</td>\n",
              "      <td>130.0</td>\n",
              "      <td>250.0</td>\n",
              "      <td>0.0</td>\n",
              "      <td>0.0</td>\n",
              "      <td>187.0</td>\n",
              "      <td>0.0</td>\n",
              "      <td>3.5</td>\n",
              "      <td>3.0</td>\n",
              "      <td>0.0</td>\n",
              "      <td>3.0</td>\n",
              "      <td>0</td>\n",
              "      <td>0</td>\n",
              "    </tr>\n",
              "    <tr>\n",
              "      <th>4</th>\n",
              "      <td>41.0</td>\n",
              "      <td>0.0</td>\n",
              "      <td>2.0</td>\n",
              "      <td>130.0</td>\n",
              "      <td>204.0</td>\n",
              "      <td>0.0</td>\n",
              "      <td>2.0</td>\n",
              "      <td>172.0</td>\n",
              "      <td>0.0</td>\n",
              "      <td>1.4</td>\n",
              "      <td>1.0</td>\n",
              "      <td>0.0</td>\n",
              "      <td>3.0</td>\n",
              "      <td>0</td>\n",
              "      <td>0</td>\n",
              "    </tr>\n",
              "  </tbody>\n",
              "</table>\n",
              "</div>\n",
              "      <button class=\"colab-df-convert\" onclick=\"convertToInteractive('df-24e5f6c3-5f37-476c-9d95-6afd58f1e0ef')\"\n",
              "              title=\"Convert this dataframe to an interactive table.\"\n",
              "              style=\"display:none;\">\n",
              "        \n",
              "  <svg xmlns=\"http://www.w3.org/2000/svg\" height=\"24px\"viewBox=\"0 0 24 24\"\n",
              "       width=\"24px\">\n",
              "    <path d=\"M0 0h24v24H0V0z\" fill=\"none\"/>\n",
              "    <path d=\"M18.56 5.44l.94 2.06.94-2.06 2.06-.94-2.06-.94-.94-2.06-.94 2.06-2.06.94zm-11 1L8.5 8.5l.94-2.06 2.06-.94-2.06-.94L8.5 2.5l-.94 2.06-2.06.94zm10 10l.94 2.06.94-2.06 2.06-.94-2.06-.94-.94-2.06-.94 2.06-2.06.94z\"/><path d=\"M17.41 7.96l-1.37-1.37c-.4-.4-.92-.59-1.43-.59-.52 0-1.04.2-1.43.59L10.3 9.45l-7.72 7.72c-.78.78-.78 2.05 0 2.83L4 21.41c.39.39.9.59 1.41.59.51 0 1.02-.2 1.41-.59l7.78-7.78 2.81-2.81c.8-.78.8-2.07 0-2.86zM5.41 20L4 18.59l7.72-7.72 1.47 1.35L5.41 20z\"/>\n",
              "  </svg>\n",
              "      </button>\n",
              "      \n",
              "  <style>\n",
              "    .colab-df-container {\n",
              "      display:flex;\n",
              "      flex-wrap:wrap;\n",
              "      gap: 12px;\n",
              "    }\n",
              "\n",
              "    .colab-df-convert {\n",
              "      background-color: #E8F0FE;\n",
              "      border: none;\n",
              "      border-radius: 50%;\n",
              "      cursor: pointer;\n",
              "      display: none;\n",
              "      fill: #1967D2;\n",
              "      height: 32px;\n",
              "      padding: 0 0 0 0;\n",
              "      width: 32px;\n",
              "    }\n",
              "\n",
              "    .colab-df-convert:hover {\n",
              "      background-color: #E2EBFA;\n",
              "      box-shadow: 0px 1px 2px rgba(60, 64, 67, 0.3), 0px 1px 3px 1px rgba(60, 64, 67, 0.15);\n",
              "      fill: #174EA6;\n",
              "    }\n",
              "\n",
              "    [theme=dark] .colab-df-convert {\n",
              "      background-color: #3B4455;\n",
              "      fill: #D2E3FC;\n",
              "    }\n",
              "\n",
              "    [theme=dark] .colab-df-convert:hover {\n",
              "      background-color: #434B5C;\n",
              "      box-shadow: 0px 1px 3px 1px rgba(0, 0, 0, 0.15);\n",
              "      filter: drop-shadow(0px 1px 2px rgba(0, 0, 0, 0.3));\n",
              "      fill: #FFFFFF;\n",
              "    }\n",
              "  </style>\n",
              "\n",
              "      <script>\n",
              "        const buttonEl =\n",
              "          document.querySelector('#df-24e5f6c3-5f37-476c-9d95-6afd58f1e0ef button.colab-df-convert');\n",
              "        buttonEl.style.display =\n",
              "          google.colab.kernel.accessAllowed ? 'block' : 'none';\n",
              "\n",
              "        async function convertToInteractive(key) {\n",
              "          const element = document.querySelector('#df-24e5f6c3-5f37-476c-9d95-6afd58f1e0ef');\n",
              "          const dataTable =\n",
              "            await google.colab.kernel.invokeFunction('convertToInteractive',\n",
              "                                                     [key], {});\n",
              "          if (!dataTable) return;\n",
              "\n",
              "          const docLinkHtml = 'Like what you see? Visit the ' +\n",
              "            '<a target=\"_blank\" href=https://colab.research.google.com/notebooks/data_table.ipynb>data table notebook</a>'\n",
              "            + ' to learn more about interactive tables.';\n",
              "          element.innerHTML = '';\n",
              "          dataTable['output_type'] = 'display_data';\n",
              "          await google.colab.output.renderOutput(dataTable, element);\n",
              "          const docLink = document.createElement('div');\n",
              "          docLink.innerHTML = docLinkHtml;\n",
              "          element.appendChild(docLink);\n",
              "        }\n",
              "      </script>\n",
              "    </div>\n",
              "  </div>\n",
              "  "
            ]
          },
          "metadata": {},
          "execution_count": 6
        }
      ]
    },
    {
      "cell_type": "markdown",
      "source": [
        "### 1.5.2) Criar uma nova categoria com a função ***apply*** do pandas"
      ],
      "metadata": {
        "id": "56soJbjHMlUk"
      }
    },
    {
      "cell_type": "markdown",
      "source": [
        "Vamos recategorizar a variáevel restecg (Eletrocardiograma em repouso)<br />\n",
        "0:Normal  |  >1:Anormal"
      ],
      "metadata": {
        "id": "z5GWB8LaMHJy"
      }
    },
    {
      "cell_type": "code",
      "source": [
        "df.restecg.value_counts()"
      ],
      "metadata": {
        "colab": {
          "base_uri": "https://localhost:8080/"
        },
        "id": "qtLpf_22MdWg",
        "outputId": "8ca605b3-4056-4bde-c86d-6228a3a8181e"
      },
      "execution_count": null,
      "outputs": [
        {
          "output_type": "execute_result",
          "data": {
            "text/plain": [
              "0.0    151\n",
              "2.0    148\n",
              "1.0      4\n",
              "Name: restecg, dtype: int64"
            ]
          },
          "metadata": {},
          "execution_count": 20
        }
      ]
    },
    {
      "cell_type": "code",
      "source": [
        "df['ecg_anormal'] = df['restecg'].apply(lambda x: 1 if x > 0 else 0)\n",
        "df['ecg_anormal'].value_counts()"
      ],
      "metadata": {
        "colab": {
          "base_uri": "https://localhost:8080/"
        },
        "id": "k607oiZnLUHF",
        "outputId": "a3068972-d42e-447e-93fa-bd24e9bde393"
      },
      "execution_count": null,
      "outputs": [
        {
          "output_type": "execute_result",
          "data": {
            "text/plain": [
              "1    152\n",
              "0    151\n",
              "Name: ecg_anormal, dtype: int64"
            ]
          },
          "metadata": {},
          "execution_count": 22
        }
      ]
    },
    {
      "cell_type": "markdown",
      "source": [
        "Legal né? =D"
      ],
      "metadata": {
        "id": "KZ3oeBsZEcko"
      }
    },
    {
      "cell_type": "markdown",
      "source": [
        "Finalmente, removo as colunas originais"
      ],
      "metadata": {
        "id": "KNrDVwNdODak"
      }
    },
    {
      "cell_type": "code",
      "source": [
        "df.drop(['restecg','num'], axis=1, inplace=True)\n",
        "df.head()"
      ],
      "metadata": {
        "colab": {
          "base_uri": "https://localhost:8080/",
          "height": 206
        },
        "id": "vw2Xt4C5NzNg",
        "outputId": "4bf70b39-1608-48f5-bbf2-bf2868e2d2c5"
      },
      "execution_count": null,
      "outputs": [
        {
          "output_type": "execute_result",
          "data": {
            "text/plain": [
              "    age  sex   cp  trestbps   chol  fbs  thalach  exang  oldpeak  slope   ca  \\\n",
              "0  63.0  1.0  1.0     145.0  233.0  1.0    150.0    0.0      2.3    3.0  0.0   \n",
              "1  67.0  1.0  4.0     160.0  286.0  0.0    108.0    1.0      1.5    2.0  3.0   \n",
              "2  67.0  1.0  4.0     120.0  229.0  0.0    129.0    1.0      2.6    2.0  2.0   \n",
              "3  37.0  1.0  3.0     130.0  250.0  0.0    187.0    0.0      3.5    3.0  0.0   \n",
              "4  41.0  0.0  2.0     130.0  204.0  0.0    172.0    0.0      1.4    1.0  0.0   \n",
              "\n",
              "   thal  desfecho_binario  ecg_anormal  \n",
              "0   6.0                 0            1  \n",
              "1   3.0                 1            1  \n",
              "2   7.0                 1            1  \n",
              "3   3.0                 0            0  \n",
              "4   3.0                 0            1  "
            ],
            "text/html": [
              "\n",
              "  <div id=\"df-811a3267-297e-44bd-8c56-4c511973a8c0\">\n",
              "    <div class=\"colab-df-container\">\n",
              "      <div>\n",
              "<style scoped>\n",
              "    .dataframe tbody tr th:only-of-type {\n",
              "        vertical-align: middle;\n",
              "    }\n",
              "\n",
              "    .dataframe tbody tr th {\n",
              "        vertical-align: top;\n",
              "    }\n",
              "\n",
              "    .dataframe thead th {\n",
              "        text-align: right;\n",
              "    }\n",
              "</style>\n",
              "<table border=\"1\" class=\"dataframe\">\n",
              "  <thead>\n",
              "    <tr style=\"text-align: right;\">\n",
              "      <th></th>\n",
              "      <th>age</th>\n",
              "      <th>sex</th>\n",
              "      <th>cp</th>\n",
              "      <th>trestbps</th>\n",
              "      <th>chol</th>\n",
              "      <th>fbs</th>\n",
              "      <th>thalach</th>\n",
              "      <th>exang</th>\n",
              "      <th>oldpeak</th>\n",
              "      <th>slope</th>\n",
              "      <th>ca</th>\n",
              "      <th>thal</th>\n",
              "      <th>desfecho_binario</th>\n",
              "      <th>ecg_anormal</th>\n",
              "    </tr>\n",
              "  </thead>\n",
              "  <tbody>\n",
              "    <tr>\n",
              "      <th>0</th>\n",
              "      <td>63.0</td>\n",
              "      <td>1.0</td>\n",
              "      <td>1.0</td>\n",
              "      <td>145.0</td>\n",
              "      <td>233.0</td>\n",
              "      <td>1.0</td>\n",
              "      <td>150.0</td>\n",
              "      <td>0.0</td>\n",
              "      <td>2.3</td>\n",
              "      <td>3.0</td>\n",
              "      <td>0.0</td>\n",
              "      <td>6.0</td>\n",
              "      <td>0</td>\n",
              "      <td>1</td>\n",
              "    </tr>\n",
              "    <tr>\n",
              "      <th>1</th>\n",
              "      <td>67.0</td>\n",
              "      <td>1.0</td>\n",
              "      <td>4.0</td>\n",
              "      <td>160.0</td>\n",
              "      <td>286.0</td>\n",
              "      <td>0.0</td>\n",
              "      <td>108.0</td>\n",
              "      <td>1.0</td>\n",
              "      <td>1.5</td>\n",
              "      <td>2.0</td>\n",
              "      <td>3.0</td>\n",
              "      <td>3.0</td>\n",
              "      <td>1</td>\n",
              "      <td>1</td>\n",
              "    </tr>\n",
              "    <tr>\n",
              "      <th>2</th>\n",
              "      <td>67.0</td>\n",
              "      <td>1.0</td>\n",
              "      <td>4.0</td>\n",
              "      <td>120.0</td>\n",
              "      <td>229.0</td>\n",
              "      <td>0.0</td>\n",
              "      <td>129.0</td>\n",
              "      <td>1.0</td>\n",
              "      <td>2.6</td>\n",
              "      <td>2.0</td>\n",
              "      <td>2.0</td>\n",
              "      <td>7.0</td>\n",
              "      <td>1</td>\n",
              "      <td>1</td>\n",
              "    </tr>\n",
              "    <tr>\n",
              "      <th>3</th>\n",
              "      <td>37.0</td>\n",
              "      <td>1.0</td>\n",
              "      <td>3.0</td>\n",
              "      <td>130.0</td>\n",
              "      <td>250.0</td>\n",
              "      <td>0.0</td>\n",
              "      <td>187.0</td>\n",
              "      <td>0.0</td>\n",
              "      <td>3.5</td>\n",
              "      <td>3.0</td>\n",
              "      <td>0.0</td>\n",
              "      <td>3.0</td>\n",
              "      <td>0</td>\n",
              "      <td>0</td>\n",
              "    </tr>\n",
              "    <tr>\n",
              "      <th>4</th>\n",
              "      <td>41.0</td>\n",
              "      <td>0.0</td>\n",
              "      <td>2.0</td>\n",
              "      <td>130.0</td>\n",
              "      <td>204.0</td>\n",
              "      <td>0.0</td>\n",
              "      <td>172.0</td>\n",
              "      <td>0.0</td>\n",
              "      <td>1.4</td>\n",
              "      <td>1.0</td>\n",
              "      <td>0.0</td>\n",
              "      <td>3.0</td>\n",
              "      <td>0</td>\n",
              "      <td>1</td>\n",
              "    </tr>\n",
              "  </tbody>\n",
              "</table>\n",
              "</div>\n",
              "      <button class=\"colab-df-convert\" onclick=\"convertToInteractive('df-811a3267-297e-44bd-8c56-4c511973a8c0')\"\n",
              "              title=\"Convert this dataframe to an interactive table.\"\n",
              "              style=\"display:none;\">\n",
              "        \n",
              "  <svg xmlns=\"http://www.w3.org/2000/svg\" height=\"24px\"viewBox=\"0 0 24 24\"\n",
              "       width=\"24px\">\n",
              "    <path d=\"M0 0h24v24H0V0z\" fill=\"none\"/>\n",
              "    <path d=\"M18.56 5.44l.94 2.06.94-2.06 2.06-.94-2.06-.94-.94-2.06-.94 2.06-2.06.94zm-11 1L8.5 8.5l.94-2.06 2.06-.94-2.06-.94L8.5 2.5l-.94 2.06-2.06.94zm10 10l.94 2.06.94-2.06 2.06-.94-2.06-.94-.94-2.06-.94 2.06-2.06.94z\"/><path d=\"M17.41 7.96l-1.37-1.37c-.4-.4-.92-.59-1.43-.59-.52 0-1.04.2-1.43.59L10.3 9.45l-7.72 7.72c-.78.78-.78 2.05 0 2.83L4 21.41c.39.39.9.59 1.41.59.51 0 1.02-.2 1.41-.59l7.78-7.78 2.81-2.81c.8-.78.8-2.07 0-2.86zM5.41 20L4 18.59l7.72-7.72 1.47 1.35L5.41 20z\"/>\n",
              "  </svg>\n",
              "      </button>\n",
              "      \n",
              "  <style>\n",
              "    .colab-df-container {\n",
              "      display:flex;\n",
              "      flex-wrap:wrap;\n",
              "      gap: 12px;\n",
              "    }\n",
              "\n",
              "    .colab-df-convert {\n",
              "      background-color: #E8F0FE;\n",
              "      border: none;\n",
              "      border-radius: 50%;\n",
              "      cursor: pointer;\n",
              "      display: none;\n",
              "      fill: #1967D2;\n",
              "      height: 32px;\n",
              "      padding: 0 0 0 0;\n",
              "      width: 32px;\n",
              "    }\n",
              "\n",
              "    .colab-df-convert:hover {\n",
              "      background-color: #E2EBFA;\n",
              "      box-shadow: 0px 1px 2px rgba(60, 64, 67, 0.3), 0px 1px 3px 1px rgba(60, 64, 67, 0.15);\n",
              "      fill: #174EA6;\n",
              "    }\n",
              "\n",
              "    [theme=dark] .colab-df-convert {\n",
              "      background-color: #3B4455;\n",
              "      fill: #D2E3FC;\n",
              "    }\n",
              "\n",
              "    [theme=dark] .colab-df-convert:hover {\n",
              "      background-color: #434B5C;\n",
              "      box-shadow: 0px 1px 3px 1px rgba(0, 0, 0, 0.15);\n",
              "      filter: drop-shadow(0px 1px 2px rgba(0, 0, 0, 0.3));\n",
              "      fill: #FFFFFF;\n",
              "    }\n",
              "  </style>\n",
              "\n",
              "      <script>\n",
              "        const buttonEl =\n",
              "          document.querySelector('#df-811a3267-297e-44bd-8c56-4c511973a8c0 button.colab-df-convert');\n",
              "        buttonEl.style.display =\n",
              "          google.colab.kernel.accessAllowed ? 'block' : 'none';\n",
              "\n",
              "        async function convertToInteractive(key) {\n",
              "          const element = document.querySelector('#df-811a3267-297e-44bd-8c56-4c511973a8c0');\n",
              "          const dataTable =\n",
              "            await google.colab.kernel.invokeFunction('convertToInteractive',\n",
              "                                                     [key], {});\n",
              "          if (!dataTable) return;\n",
              "\n",
              "          const docLinkHtml = 'Like what you see? Visit the ' +\n",
              "            '<a target=\"_blank\" href=https://colab.research.google.com/notebooks/data_table.ipynb>data table notebook</a>'\n",
              "            + ' to learn more about interactive tables.';\n",
              "          element.innerHTML = '';\n",
              "          dataTable['output_type'] = 'display_data';\n",
              "          await google.colab.output.renderOutput(dataTable, element);\n",
              "          const docLink = document.createElement('div');\n",
              "          docLink.innerHTML = docLinkHtml;\n",
              "          element.appendChild(docLink);\n",
              "        }\n",
              "      </script>\n",
              "    </div>\n",
              "  </div>\n",
              "  "
            ]
          },
          "metadata": {},
          "execution_count": 25
        }
      ]
    },
    {
      "cell_type": "markdown",
      "source": [
        "#2) Considerações Finais"
      ],
      "metadata": {
        "id": "zDv161xGFiXT"
      }
    },
    {
      "cell_type": "markdown",
      "source": [
        "Use:\n",
        "\n",
        "* Para operações simples que você usará apenas uma vez em seu código. \n",
        "* auxiliar outras funções (ex: map, filter, apply, etc.) \n",
        "<br /><br />\n",
        "\n",
        "Evite:\n",
        "* quando o código é mais complexo e exige várias linhas \n",
        "* quando precisar de 2 ou mais argumentos\n",
        "* Precisa explicar os parâmetros e tipo de retorno (sem suporte a *docstring*)"
      ],
      "metadata": {
        "id": "a0MSYThrFkv_"
      }
    },
    {
      "cell_type": "markdown",
      "source": [
        "**Veja também**"
      ],
      "metadata": {
        "id": "BbLHM4g8HFXi"
      }
    },
    {
      "cell_type": "markdown",
      "source": [
        "**List comprehension**\n",
        "* https://github.com/simplifique-treinamentos/notebooks-python/blob/main/code-snippets/ListComprehension.ipynb"
      ],
      "metadata": {
        "id": "DxYDb0d5HGEu"
      }
    },
    {
      "cell_type": "markdown",
      "source": [
        "#3) Exercícios"
      ],
      "metadata": {
        "id": "VbI0aYlrQJCJ"
      }
    },
    {
      "cell_type": "markdown",
      "source": [
        "##3.1) Crie uma função lambda que soma 5 a qualquer valor passado como argumento"
      ],
      "metadata": {
        "id": "jeKnRXGwQc3C"
      }
    },
    {
      "cell_type": "code",
      "source": [
        ""
      ],
      "metadata": {
        "id": "iTwaxJhwQRcC"
      },
      "execution_count": null,
      "outputs": []
    },
    {
      "cell_type": "markdown",
      "source": [
        "## 3.2) Função lambda para retornar somente as palavras que iniciam com P"
      ],
      "metadata": {
        "id": "F6bwQ28ZQwag"
      }
    },
    {
      "cell_type": "code",
      "source": [
        "lista_palavras = ['Python','Java','PHP','C#','Ruby','Go','Perl']"
      ],
      "metadata": {
        "id": "o3Rhd6PURj8x"
      },
      "execution_count": 29,
      "outputs": []
    },
    {
      "cell_type": "code",
      "source": [
        "lista_ps = list(filter(lambda x: x.startswith('P'), lista_palavras))\n",
        "lista_ps"
      ],
      "metadata": {
        "colab": {
          "base_uri": "https://localhost:8080/"
        },
        "id": "OpLw5ISGQwga",
        "outputId": "9a602f34-84f0-48ea-cb82-41153076ae97"
      },
      "execution_count": 35,
      "outputs": [
        {
          "output_type": "execute_result",
          "data": {
            "text/plain": [
              "['Python', 'PHP', 'Perl']"
            ]
          },
          "metadata": {},
          "execution_count": 35
        }
      ]
    },
    {
      "cell_type": "markdown",
      "source": [
        "Respostas e lista de exercícios: <br/>\n",
        "https://www.w3resource.com/python-exercises/lambda/"
      ],
      "metadata": {
        "id": "hKwVmNENQR8U"
      }
    },
    {
      "cell_type": "markdown",
      "source": [
        "# 4) Referências"
      ],
      "metadata": {
        "id": "L2CfbWOUE6Vm"
      }
    },
    {
      "cell_type": "markdown",
      "source": [
        "*  https://docs.python.org/3/reference/expressions.html#lambda\n",
        "*  https://pandas.pydata.org/docs/reference/api/pandas.DataFrame.apply.html\n",
        "*  https://docs.python.org/3/library/functions.html\n",
        "*  https://www.w3schools.com/python/python_lambda.asp\n",
        "*  https://towardsdatascience.com/lambda-functions-with-practical-examples-in-python-45934f3653a8 (muito bom!)"
      ],
      "metadata": {
        "id": "25MGR4F3FXaH"
      }
    },
    {
      "cell_type": "markdown",
      "source": [
        "Obrigado!"
      ],
      "metadata": {
        "id": "t5kILK3hkW-P"
      }
    }
  ]
}